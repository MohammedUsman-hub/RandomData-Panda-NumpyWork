{
 "cells": [
  {
   "cell_type": "code",
   "execution_count": 1,
   "id": "3fa56827-fcb3-4771-a219-fb2d3cedc508",
   "metadata": {},
   "outputs": [],
   "source": [
    "import numpy as np\n",
    "import pandas as pd\n",
    "from pandas import Series, DataFrame"
   ]
  },
  {
   "cell_type": "code",
   "execution_count": 2,
   "id": "4ee8ede3-78a9-49f7-856a-d0d639675174",
   "metadata": {},
   "outputs": [],
   "source": [
    "url = 'https://www.kaggle.com/datasets/rajeevw/ufcdata/'"
   ]
  },
  {
   "cell_type": "code",
   "execution_count": 15,
   "id": "a4d60620-d7bf-4bec-bd1a-25bf6f194c1a",
   "metadata": {},
   "outputs": [],
   "source": [
    "df_ufc = pd.read_csv('raw_fighter_details.csv')"
   ]
  },
  {
   "cell_type": "code",
   "execution_count": 16,
   "id": "d7abd62a-17c1-49c8-981a-cfcc50c6360d",
   "metadata": {},
   "outputs": [
    {
     "data": {
      "text/html": [
       "<div>\n",
       "<style scoped>\n",
       "    .dataframe tbody tr th:only-of-type {\n",
       "        vertical-align: middle;\n",
       "    }\n",
       "\n",
       "    .dataframe tbody tr th {\n",
       "        vertical-align: top;\n",
       "    }\n",
       "\n",
       "    .dataframe thead th {\n",
       "        text-align: right;\n",
       "    }\n",
       "</style>\n",
       "<table border=\"1\" class=\"dataframe\">\n",
       "  <thead>\n",
       "    <tr style=\"text-align: right;\">\n",
       "      <th></th>\n",
       "      <th>fighter_name</th>\n",
       "      <th>Height</th>\n",
       "      <th>Weight</th>\n",
       "      <th>Reach</th>\n",
       "      <th>Stance</th>\n",
       "      <th>DOB</th>\n",
       "      <th>SLpM</th>\n",
       "      <th>Str_Acc</th>\n",
       "      <th>SApM</th>\n",
       "      <th>Str_Def</th>\n",
       "      <th>TD_Avg</th>\n",
       "      <th>TD_Acc</th>\n",
       "      <th>TD_Def</th>\n",
       "      <th>Sub_Avg</th>\n",
       "    </tr>\n",
       "  </thead>\n",
       "  <tbody>\n",
       "    <tr>\n",
       "      <th>0</th>\n",
       "      <td>Tom Aaron</td>\n",
       "      <td>NaN</td>\n",
       "      <td>155 lbs.</td>\n",
       "      <td>NaN</td>\n",
       "      <td>NaN</td>\n",
       "      <td>Jul 13, 1978</td>\n",
       "      <td>0.00</td>\n",
       "      <td>0%</td>\n",
       "      <td>0.00</td>\n",
       "      <td>0%</td>\n",
       "      <td>0.00</td>\n",
       "      <td>0%</td>\n",
       "      <td>0%</td>\n",
       "      <td>0.0</td>\n",
       "    </tr>\n",
       "    <tr>\n",
       "      <th>1</th>\n",
       "      <td>Papy Abedi</td>\n",
       "      <td>5' 11\"</td>\n",
       "      <td>185 lbs.</td>\n",
       "      <td>NaN</td>\n",
       "      <td>Southpaw</td>\n",
       "      <td>Jun 30, 1978</td>\n",
       "      <td>2.80</td>\n",
       "      <td>55%</td>\n",
       "      <td>3.15</td>\n",
       "      <td>48%</td>\n",
       "      <td>3.47</td>\n",
       "      <td>57%</td>\n",
       "      <td>50%</td>\n",
       "      <td>1.3</td>\n",
       "    </tr>\n",
       "    <tr>\n",
       "      <th>2</th>\n",
       "      <td>Shamil Abdurakhimov</td>\n",
       "      <td>6' 3\"</td>\n",
       "      <td>235 lbs.</td>\n",
       "      <td>76\"</td>\n",
       "      <td>Orthodox</td>\n",
       "      <td>Sep 02, 1981</td>\n",
       "      <td>2.45</td>\n",
       "      <td>44%</td>\n",
       "      <td>2.45</td>\n",
       "      <td>58%</td>\n",
       "      <td>1.23</td>\n",
       "      <td>24%</td>\n",
       "      <td>47%</td>\n",
       "      <td>0.2</td>\n",
       "    </tr>\n",
       "    <tr>\n",
       "      <th>3</th>\n",
       "      <td>Danny Abbadi</td>\n",
       "      <td>5' 11\"</td>\n",
       "      <td>155 lbs.</td>\n",
       "      <td>NaN</td>\n",
       "      <td>Orthodox</td>\n",
       "      <td>Jul 03, 1983</td>\n",
       "      <td>3.29</td>\n",
       "      <td>38%</td>\n",
       "      <td>4.41</td>\n",
       "      <td>57%</td>\n",
       "      <td>0.00</td>\n",
       "      <td>0%</td>\n",
       "      <td>77%</td>\n",
       "      <td>0.0</td>\n",
       "    </tr>\n",
       "    <tr>\n",
       "      <th>4</th>\n",
       "      <td>Hiroyuki Abe</td>\n",
       "      <td>5' 6\"</td>\n",
       "      <td>145 lbs.</td>\n",
       "      <td>NaN</td>\n",
       "      <td>Orthodox</td>\n",
       "      <td>NaN</td>\n",
       "      <td>1.71</td>\n",
       "      <td>36%</td>\n",
       "      <td>3.11</td>\n",
       "      <td>63%</td>\n",
       "      <td>0.00</td>\n",
       "      <td>0%</td>\n",
       "      <td>33%</td>\n",
       "      <td>0.0</td>\n",
       "    </tr>\n",
       "  </tbody>\n",
       "</table>\n",
       "</div>"
      ],
      "text/plain": [
       "          fighter_name  Height    Weight Reach    Stance           DOB  SLpM  \\\n",
       "0            Tom Aaron     NaN  155 lbs.   NaN       NaN  Jul 13, 1978  0.00   \n",
       "1           Papy Abedi  5' 11\"  185 lbs.   NaN  Southpaw  Jun 30, 1978  2.80   \n",
       "2  Shamil Abdurakhimov   6' 3\"  235 lbs.   76\"  Orthodox  Sep 02, 1981  2.45   \n",
       "3         Danny Abbadi  5' 11\"  155 lbs.   NaN  Orthodox  Jul 03, 1983  3.29   \n",
       "4         Hiroyuki Abe   5' 6\"  145 lbs.   NaN  Orthodox           NaN  1.71   \n",
       "\n",
       "  Str_Acc  SApM Str_Def  TD_Avg TD_Acc TD_Def  Sub_Avg  \n",
       "0      0%  0.00      0%    0.00     0%     0%      0.0  \n",
       "1     55%  3.15     48%    3.47    57%    50%      1.3  \n",
       "2     44%  2.45     58%    1.23    24%    47%      0.2  \n",
       "3     38%  4.41     57%    0.00     0%    77%      0.0  \n",
       "4     36%  3.11     63%    0.00     0%    33%      0.0  "
      ]
     },
     "execution_count": 16,
     "metadata": {},
     "output_type": "execute_result"
    }
   ],
   "source": [
    "df_ufc.head()"
   ]
  },
  {
   "cell_type": "code",
   "execution_count": 22,
   "id": "902c951e-6d38-4421-a77d-3da2f075fb0e",
   "metadata": {},
   "outputs": [
    {
     "data": {
      "text/plain": [
       "0.6367074527252504"
      ]
     },
     "execution_count": 22,
     "metadata": {},
     "output_type": "execute_result"
    }
   ],
   "source": [
    "df_ufc['Sub_Avg'].mean()"
   ]
  },
  {
   "cell_type": "code",
   "execution_count": null,
   "id": "439074d5-e492-48a8-85f1-ad7ef32d547c",
   "metadata": {},
   "outputs": [],
   "source": []
  }
 ],
 "metadata": {
  "kernelspec": {
   "display_name": "Python 3 (ipykernel)",
   "language": "python",
   "name": "python3"
  },
  "language_info": {
   "codemirror_mode": {
    "name": "ipython",
    "version": 3
   },
   "file_extension": ".py",
   "mimetype": "text/x-python",
   "name": "python",
   "nbconvert_exporter": "python",
   "pygments_lexer": "ipython3",
   "version": "3.9.17"
  }
 },
 "nbformat": 4,
 "nbformat_minor": 5
}
