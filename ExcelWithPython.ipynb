{
 "cells": [
  {
   "cell_type": "code",
   "execution_count": 1,
   "id": "4eff23f9-b924-4339-a5b0-367f778fb031",
   "metadata": {},
   "outputs": [],
   "source": [
    "import numpy as np\n",
    "import pandas as pd\n",
    "from pandas import Series, DataFrame"
   ]
  },
  {
   "cell_type": "code",
   "execution_count": 3,
   "id": "b4e0cf1d-c5b4-4ad3-b253-2f2a7979b3ed",
   "metadata": {},
   "outputs": [],
   "source": [
    "#xlsfile = pd.ExcelFile(insert excel file name .xlsx)"
   ]
  },
  {
   "cell_type": "code",
   "execution_count": 4,
   "id": "2f12fe44-81be-4669-a6cd-c930ed5f7c43",
   "metadata": {},
   "outputs": [],
   "source": [
    "#dframe = xlsfile.parse(sheet name) #to view sheet"
   ]
  },
  {
   "cell_type": "code",
   "execution_count": null,
   "id": "9a3950c9-2474-44ae-8e43-b9ec4d679c8d",
   "metadata": {},
   "outputs": [],
   "source": []
  }
 ],
 "metadata": {
  "kernelspec": {
   "display_name": "Python 3 (ipykernel)",
   "language": "python",
   "name": "python3"
  },
  "language_info": {
   "codemirror_mode": {
    "name": "ipython",
    "version": 3
   },
   "file_extension": ".py",
   "mimetype": "text/x-python",
   "name": "python",
   "nbconvert_exporter": "python",
   "pygments_lexer": "ipython3",
   "version": "3.9.17"
  }
 },
 "nbformat": 4,
 "nbformat_minor": 5
}
