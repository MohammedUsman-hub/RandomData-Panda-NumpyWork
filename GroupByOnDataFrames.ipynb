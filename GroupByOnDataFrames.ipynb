{
 "cells": [
  {
   "cell_type": "code",
   "execution_count": 3,
   "id": "19d64ea0-6f99-430d-911d-11c3da397305",
   "metadata": {},
   "outputs": [],
   "source": [
    "import numpy as np\n",
    "import pandas as pd\n",
    "from pandas import Series, DataFrame"
   ]
  },
  {
   "cell_type": "code",
   "execution_count": 4,
   "id": "1035828a-f4db-413d-abd8-97a5db3014bd",
   "metadata": {},
   "outputs": [
    {
     "data": {
      "text/html": [
       "<div>\n",
       "<style scoped>\n",
       "    .dataframe tbody tr th:only-of-type {\n",
       "        vertical-align: middle;\n",
       "    }\n",
       "\n",
       "    .dataframe tbody tr th {\n",
       "        vertical-align: top;\n",
       "    }\n",
       "\n",
       "    .dataframe thead th {\n",
       "        text-align: right;\n",
       "    }\n",
       "</style>\n",
       "<table border=\"1\" class=\"dataframe\">\n",
       "  <thead>\n",
       "    <tr style=\"text-align: right;\">\n",
       "      <th></th>\n",
       "      <th>k1</th>\n",
       "      <th>k2</th>\n",
       "      <th>ds1</th>\n",
       "      <th>ds2</th>\n",
       "    </tr>\n",
       "  </thead>\n",
       "  <tbody>\n",
       "    <tr>\n",
       "      <th>0</th>\n",
       "      <td>X</td>\n",
       "      <td>alpha</td>\n",
       "      <td>0.469778</td>\n",
       "      <td>-0.084170</td>\n",
       "    </tr>\n",
       "    <tr>\n",
       "      <th>1</th>\n",
       "      <td>X</td>\n",
       "      <td>beta</td>\n",
       "      <td>0.766179</td>\n",
       "      <td>1.041545</td>\n",
       "    </tr>\n",
       "    <tr>\n",
       "      <th>2</th>\n",
       "      <td>Y</td>\n",
       "      <td>alpha</td>\n",
       "      <td>1.097562</td>\n",
       "      <td>1.163514</td>\n",
       "    </tr>\n",
       "    <tr>\n",
       "      <th>3</th>\n",
       "      <td>Y</td>\n",
       "      <td>beta</td>\n",
       "      <td>-0.433773</td>\n",
       "      <td>-0.135686</td>\n",
       "    </tr>\n",
       "    <tr>\n",
       "      <th>4</th>\n",
       "      <td>Z</td>\n",
       "      <td>alpha</td>\n",
       "      <td>0.419774</td>\n",
       "      <td>0.079754</td>\n",
       "    </tr>\n",
       "  </tbody>\n",
       "</table>\n",
       "</div>"
      ],
      "text/plain": [
       "  k1     k2       ds1       ds2\n",
       "0  X  alpha  0.469778 -0.084170\n",
       "1  X   beta  0.766179  1.041545\n",
       "2  Y  alpha  1.097562  1.163514\n",
       "3  Y   beta -0.433773 -0.135686\n",
       "4  Z  alpha  0.419774  0.079754"
      ]
     },
     "execution_count": 4,
     "metadata": {},
     "output_type": "execute_result"
    }
   ],
   "source": [
    "df = DataFrame({'k1':['X','X','Y','Y','Z'],\n",
    "               'k2': ['alpha','beta','alpha','beta','alpha'],\n",
    "               'ds1':np.random.randn(5),\n",
    "               'ds2':np.random.randn(5)})\n",
    "\n",
    "df"
   ]
  },
  {
   "cell_type": "code",
   "execution_count": 5,
   "id": "32c6e365-8e69-473c-91bf-0a41058e3d10",
   "metadata": {},
   "outputs": [
    {
     "data": {
      "text/plain": [
       "<pandas.core.groupby.generic.SeriesGroupBy object at 0x000002E899188BB0>"
      ]
     },
     "execution_count": 5,
     "metadata": {},
     "output_type": "execute_result"
    }
   ],
   "source": [
    "group1 = df['ds1'].groupby(df['k1'])\n",
    "\n",
    "group1"
   ]
  },
  {
   "cell_type": "code",
   "execution_count": 6,
   "id": "b45d0e3b-b941-48f8-adb8-9b519d7b2781",
   "metadata": {},
   "outputs": [
    {
     "data": {
      "text/plain": [
       "k1\n",
       "X    0.617978\n",
       "Y    0.331895\n",
       "Z    0.419774\n",
       "Name: ds1, dtype: float64"
      ]
     },
     "execution_count": 6,
     "metadata": {},
     "output_type": "execute_result"
    }
   ],
   "source": [
    "group1.mean()"
   ]
  },
  {
   "cell_type": "code",
   "execution_count": 7,
   "id": "015903e8-6505-4500-a63c-3bfbd43c9dab",
   "metadata": {},
   "outputs": [],
   "source": [
    "city = np.array(['London','Lahore','Lahore','London','Lahore'])\n",
    "\n",
    "month = np.array(['Jan','Feb','Jan','Feb','Jan'])"
   ]
  },
  {
   "cell_type": "code",
   "execution_count": 8,
   "id": "e3d3f155-74ee-4d19-8b85-89b020797b62",
   "metadata": {},
   "outputs": [
    {
     "data": {
      "text/plain": [
       "Lahore  Feb    0.766179\n",
       "        Jan    0.758668\n",
       "London  Feb   -0.433773\n",
       "        Jan    0.469778\n",
       "Name: ds1, dtype: float64"
      ]
     },
     "execution_count": 8,
     "metadata": {},
     "output_type": "execute_result"
    }
   ],
   "source": [
    "df['ds1'].groupby([city,month]).mean()"
   ]
  },
  {
   "cell_type": "code",
   "execution_count": 9,
   "id": "a555f8f9-bcf8-4bc9-ac94-87720c82825d",
   "metadata": {},
   "outputs": [
    {
     "data": {
      "text/html": [
       "<div>\n",
       "<style scoped>\n",
       "    .dataframe tbody tr th:only-of-type {\n",
       "        vertical-align: middle;\n",
       "    }\n",
       "\n",
       "    .dataframe tbody tr th {\n",
       "        vertical-align: top;\n",
       "    }\n",
       "\n",
       "    .dataframe thead th {\n",
       "        text-align: right;\n",
       "    }\n",
       "</style>\n",
       "<table border=\"1\" class=\"dataframe\">\n",
       "  <thead>\n",
       "    <tr style=\"text-align: right;\">\n",
       "      <th></th>\n",
       "      <th>k1</th>\n",
       "      <th>k2</th>\n",
       "      <th>ds1</th>\n",
       "      <th>ds2</th>\n",
       "    </tr>\n",
       "  </thead>\n",
       "  <tbody>\n",
       "    <tr>\n",
       "      <th>0</th>\n",
       "      <td>X</td>\n",
       "      <td>alpha</td>\n",
       "      <td>0.469778</td>\n",
       "      <td>-0.084170</td>\n",
       "    </tr>\n",
       "    <tr>\n",
       "      <th>1</th>\n",
       "      <td>X</td>\n",
       "      <td>beta</td>\n",
       "      <td>0.766179</td>\n",
       "      <td>1.041545</td>\n",
       "    </tr>\n",
       "    <tr>\n",
       "      <th>2</th>\n",
       "      <td>Y</td>\n",
       "      <td>alpha</td>\n",
       "      <td>1.097562</td>\n",
       "      <td>1.163514</td>\n",
       "    </tr>\n",
       "    <tr>\n",
       "      <th>3</th>\n",
       "      <td>Y</td>\n",
       "      <td>beta</td>\n",
       "      <td>-0.433773</td>\n",
       "      <td>-0.135686</td>\n",
       "    </tr>\n",
       "    <tr>\n",
       "      <th>4</th>\n",
       "      <td>Z</td>\n",
       "      <td>alpha</td>\n",
       "      <td>0.419774</td>\n",
       "      <td>0.079754</td>\n",
       "    </tr>\n",
       "  </tbody>\n",
       "</table>\n",
       "</div>"
      ],
      "text/plain": [
       "  k1     k2       ds1       ds2\n",
       "0  X  alpha  0.469778 -0.084170\n",
       "1  X   beta  0.766179  1.041545\n",
       "2  Y  alpha  1.097562  1.163514\n",
       "3  Y   beta -0.433773 -0.135686\n",
       "4  Z  alpha  0.419774  0.079754"
      ]
     },
     "execution_count": 9,
     "metadata": {},
     "output_type": "execute_result"
    }
   ],
   "source": [
    "df"
   ]
  },
  {
   "cell_type": "code",
   "execution_count": 10,
   "id": "62f17a4c-754d-49c5-85bd-e3489b5df871",
   "metadata": {},
   "outputs": [
    {
     "data": {
      "text/html": [
       "<div>\n",
       "<style scoped>\n",
       "    .dataframe tbody tr th:only-of-type {\n",
       "        vertical-align: middle;\n",
       "    }\n",
       "\n",
       "    .dataframe tbody tr th {\n",
       "        vertical-align: top;\n",
       "    }\n",
       "\n",
       "    .dataframe thead th {\n",
       "        text-align: right;\n",
       "    }\n",
       "</style>\n",
       "<table border=\"1\" class=\"dataframe\">\n",
       "  <thead>\n",
       "    <tr style=\"text-align: right;\">\n",
       "      <th></th>\n",
       "      <th></th>\n",
       "      <th>ds1</th>\n",
       "      <th>ds2</th>\n",
       "    </tr>\n",
       "    <tr>\n",
       "      <th>k1</th>\n",
       "      <th>k2</th>\n",
       "      <th></th>\n",
       "      <th></th>\n",
       "    </tr>\n",
       "  </thead>\n",
       "  <tbody>\n",
       "    <tr>\n",
       "      <th rowspan=\"2\" valign=\"top\">X</th>\n",
       "      <th>alpha</th>\n",
       "      <td>0.469778</td>\n",
       "      <td>-0.084170</td>\n",
       "    </tr>\n",
       "    <tr>\n",
       "      <th>beta</th>\n",
       "      <td>0.766179</td>\n",
       "      <td>1.041545</td>\n",
       "    </tr>\n",
       "    <tr>\n",
       "      <th rowspan=\"2\" valign=\"top\">Y</th>\n",
       "      <th>alpha</th>\n",
       "      <td>1.097562</td>\n",
       "      <td>1.163514</td>\n",
       "    </tr>\n",
       "    <tr>\n",
       "      <th>beta</th>\n",
       "      <td>-0.433773</td>\n",
       "      <td>-0.135686</td>\n",
       "    </tr>\n",
       "    <tr>\n",
       "      <th>Z</th>\n",
       "      <th>alpha</th>\n",
       "      <td>0.419774</td>\n",
       "      <td>0.079754</td>\n",
       "    </tr>\n",
       "  </tbody>\n",
       "</table>\n",
       "</div>"
      ],
      "text/plain": [
       "               ds1       ds2\n",
       "k1 k2                       \n",
       "X  alpha  0.469778 -0.084170\n",
       "   beta   0.766179  1.041545\n",
       "Y  alpha  1.097562  1.163514\n",
       "   beta  -0.433773 -0.135686\n",
       "Z  alpha  0.419774  0.079754"
      ]
     },
     "execution_count": 10,
     "metadata": {},
     "output_type": "execute_result"
    }
   ],
   "source": [
    "df.groupby(['k1','k2']).mean()"
   ]
  },
  {
   "cell_type": "code",
   "execution_count": 11,
   "id": "8d0bcc9b-2f66-4668-9ccd-050a756849be",
   "metadata": {},
   "outputs": [
    {
     "data": {
      "text/plain": [
       "k1\n",
       "X    2\n",
       "Y    2\n",
       "Z    1\n",
       "dtype: int64"
      ]
     },
     "execution_count": 11,
     "metadata": {},
     "output_type": "execute_result"
    }
   ],
   "source": [
    "df.groupby(['k1']).size()"
   ]
  },
  {
   "cell_type": "code",
   "execution_count": 12,
   "id": "ed57e6c2-6c49-4bbe-899e-3d6a6463a5b5",
   "metadata": {},
   "outputs": [
    {
     "name": "stdout",
     "output_type": "stream",
     "text": [
      "This is the X group\n",
      "  k1     k2       ds1       ds2\n",
      "0  X  alpha  0.469778 -0.084170\n",
      "1  X   beta  0.766179  1.041545\n",
      "\n",
      "\n",
      "This is the Y group\n",
      "  k1     k2       ds1       ds2\n",
      "2  Y  alpha  1.097562  1.163514\n",
      "3  Y   beta -0.433773 -0.135686\n",
      "\n",
      "\n",
      "This is the Z group\n",
      "  k1     k2       ds1       ds2\n",
      "4  Z  alpha  0.419774  0.079754\n",
      "\n",
      "\n"
     ]
    }
   ],
   "source": [
    "for name, group1 in df.groupby('k1'):              \n",
    "    print (\"This is the %s group\" %name)\n",
    "    print (group1)\n",
    "    print ('\\n')"
   ]
  },
  {
   "cell_type": "code",
   "execution_count": 13,
   "id": "1ebf5aa7-edc3-4e93-a58b-3c0ddb842a45",
   "metadata": {},
   "outputs": [
    {
     "name": "stdout",
     "output_type": "stream",
     "text": [
      "Key1 = X Key2 = alpha\n",
      "  k1     k2       ds1       ds2\n",
      "4  Z  alpha  0.419774  0.079754\n",
      "\n",
      "\n",
      "Key1 = X Key2 = beta\n",
      "  k1     k2       ds1       ds2\n",
      "4  Z  alpha  0.419774  0.079754\n",
      "\n",
      "\n",
      "Key1 = Y Key2 = alpha\n",
      "  k1     k2       ds1       ds2\n",
      "4  Z  alpha  0.419774  0.079754\n",
      "\n",
      "\n",
      "Key1 = Y Key2 = beta\n",
      "  k1     k2       ds1       ds2\n",
      "4  Z  alpha  0.419774  0.079754\n",
      "\n",
      "\n",
      "Key1 = Z Key2 = alpha\n",
      "  k1     k2       ds1       ds2\n",
      "4  Z  alpha  0.419774  0.079754\n",
      "\n",
      "\n"
     ]
    }
   ],
   "source": [
    "for (k1, k2), group in df.groupby(['k1', 'k2']):\n",
    "    print (\"Key1 = %s Key2 = %s\" %(k1,k2))\n",
    "    print (group1)\n",
    "    print ('\\n')"
   ]
  },
  {
   "cell_type": "code",
   "execution_count": 15,
   "id": "e7765b28-f949-4f9f-be1b-a7fc1569e3df",
   "metadata": {},
   "outputs": [
    {
     "data": {
      "text/html": [
       "<div>\n",
       "<style scoped>\n",
       "    .dataframe tbody tr th:only-of-type {\n",
       "        vertical-align: middle;\n",
       "    }\n",
       "\n",
       "    .dataframe tbody tr th {\n",
       "        vertical-align: top;\n",
       "    }\n",
       "\n",
       "    .dataframe thead th {\n",
       "        text-align: right;\n",
       "    }\n",
       "</style>\n",
       "<table border=\"1\" class=\"dataframe\">\n",
       "  <thead>\n",
       "    <tr style=\"text-align: right;\">\n",
       "      <th></th>\n",
       "      <th>k1</th>\n",
       "      <th>k2</th>\n",
       "      <th>ds1</th>\n",
       "      <th>ds2</th>\n",
       "    </tr>\n",
       "  </thead>\n",
       "  <tbody>\n",
       "    <tr>\n",
       "      <th>0</th>\n",
       "      <td>X</td>\n",
       "      <td>alpha</td>\n",
       "      <td>0.469778</td>\n",
       "      <td>-0.084170</td>\n",
       "    </tr>\n",
       "    <tr>\n",
       "      <th>1</th>\n",
       "      <td>X</td>\n",
       "      <td>beta</td>\n",
       "      <td>0.766179</td>\n",
       "      <td>1.041545</td>\n",
       "    </tr>\n",
       "  </tbody>\n",
       "</table>\n",
       "</div>"
      ],
      "text/plain": [
       "  k1     k2       ds1       ds2\n",
       "0  X  alpha  0.469778 -0.084170\n",
       "1  X   beta  0.766179  1.041545"
      ]
     },
     "execution_count": 15,
     "metadata": {},
     "output_type": "execute_result"
    }
   ],
   "source": [
    "group_dict = dict(list(df.groupby('k1')))\n",
    "\n",
    "group_dict['X']"
   ]
  },
  {
   "cell_type": "code",
   "execution_count": 16,
   "id": "ea412426-5eca-495b-a5be-1fbd09dab695",
   "metadata": {},
   "outputs": [
    {
     "data": {
      "text/plain": [
       "{dtype('float64'):         ds1       ds2\n",
       " 0  0.469778 -0.084170\n",
       " 1  0.766179  1.041545\n",
       " 2  1.097562  1.163514\n",
       " 3 -0.433773 -0.135686\n",
       " 4  0.419774  0.079754,\n",
       " dtype('O'):   k1     k2\n",
       " 0  X  alpha\n",
       " 1  X   beta\n",
       " 2  Y  alpha\n",
       " 3  Y   beta\n",
       " 4  Z  alpha}"
      ]
     },
     "execution_count": 16,
     "metadata": {},
     "output_type": "execute_result"
    }
   ],
   "source": [
    "group_dict_axis1 = dict(list(df.groupby(df.dtypes,axis=1)))\n",
    "\n",
    "group_dict_axis1"
   ]
  },
  {
   "cell_type": "code",
   "execution_count": 18,
   "id": "36da3bcb-fa2c-4961-928a-59184a26b5ce",
   "metadata": {},
   "outputs": [
    {
     "data": {
      "text/html": [
       "<div>\n",
       "<style scoped>\n",
       "    .dataframe tbody tr th:only-of-type {\n",
       "        vertical-align: middle;\n",
       "    }\n",
       "\n",
       "    .dataframe tbody tr th {\n",
       "        vertical-align: top;\n",
       "    }\n",
       "\n",
       "    .dataframe thead th {\n",
       "        text-align: right;\n",
       "    }\n",
       "</style>\n",
       "<table border=\"1\" class=\"dataframe\">\n",
       "  <thead>\n",
       "    <tr style=\"text-align: right;\">\n",
       "      <th></th>\n",
       "      <th></th>\n",
       "      <th>ds2</th>\n",
       "    </tr>\n",
       "    <tr>\n",
       "      <th>k1</th>\n",
       "      <th>k2</th>\n",
       "      <th></th>\n",
       "    </tr>\n",
       "  </thead>\n",
       "  <tbody>\n",
       "    <tr>\n",
       "      <th rowspan=\"2\" valign=\"top\">X</th>\n",
       "      <th>alpha</th>\n",
       "      <td>-0.084170</td>\n",
       "    </tr>\n",
       "    <tr>\n",
       "      <th>beta</th>\n",
       "      <td>1.041545</td>\n",
       "    </tr>\n",
       "    <tr>\n",
       "      <th rowspan=\"2\" valign=\"top\">Y</th>\n",
       "      <th>alpha</th>\n",
       "      <td>1.163514</td>\n",
       "    </tr>\n",
       "    <tr>\n",
       "      <th>beta</th>\n",
       "      <td>-0.135686</td>\n",
       "    </tr>\n",
       "    <tr>\n",
       "      <th>Z</th>\n",
       "      <th>alpha</th>\n",
       "      <td>0.079754</td>\n",
       "    </tr>\n",
       "  </tbody>\n",
       "</table>\n",
       "</div>"
      ],
      "text/plain": [
       "               ds2\n",
       "k1 k2             \n",
       "X  alpha -0.084170\n",
       "   beta   1.041545\n",
       "Y  alpha  1.163514\n",
       "   beta  -0.135686\n",
       "Z  alpha  0.079754"
      ]
     },
     "execution_count": 18,
     "metadata": {},
     "output_type": "execute_result"
    }
   ],
   "source": [
    "dataset2_group = df.groupby(['k1', 'k2'])[['ds2']]\n",
    "\n",
    "dataset2_group.mean()"
   ]
  },
  {
   "cell_type": "code",
   "execution_count": null,
   "id": "97227e09-937b-4d59-a955-29278c6e68ca",
   "metadata": {},
   "outputs": [],
   "source": []
  }
 ],
 "metadata": {
  "kernelspec": {
   "display_name": "Python 3 (ipykernel)",
   "language": "python",
   "name": "python3"
  },
  "language_info": {
   "codemirror_mode": {
    "name": "ipython",
    "version": 3
   },
   "file_extension": ".py",
   "mimetype": "text/x-python",
   "name": "python",
   "nbconvert_exporter": "python",
   "pygments_lexer": "ipython3",
   "version": "3.9.17"
  }
 },
 "nbformat": 4,
 "nbformat_minor": 5
}
